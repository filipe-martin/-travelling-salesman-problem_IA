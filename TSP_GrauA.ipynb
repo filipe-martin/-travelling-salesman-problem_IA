{
  "cells": [
    {
      "cell_type": "markdown",
      "metadata": {
        "id": "BskvvVF5JiZp"
      },
      "source": [
        "---\n",
        "# Trabalho do Grau A - Grupo TA 09\n",
        "##### Integrantes: Jhordan Pacheco, Filipe Martins Santos, Hedo Júnior, Gustavo Odriozola, Dione Adam\n",
        "---\n",
        "##### Inteligência Artificial e Aprendizado de Máquina (2023/1)\n",
        "##### Problema selecionado: **Caixeiro-Viajante (TSP)**\n",
        "\n",
        "O problema do caixeiro viajante descreve o desafio de descobrir o caminho mais breve que um vendedor viajante pode percorrer para passar por cada cidade exatamente uma vez, retornando ao ponto de partida. O problema é NP-difícil, o que denota que não há uma solução conhecida que possa resolvê-lo em tempo polinomial para todos os casos, tornando crucial o uso de algoritmos heurísticos ou aproximações para alcançar soluções satisfatórias. O problema tem aplicações em logística, transporte, roteamento e organização de viagens, dentre outros setores."
      ]
    },
    {
      "cell_type": "markdown",
      "metadata": {
        "id": "-47lv6wpOr5u"
      },
      "source": [
        "Modelagem. Definir a representação do problema escolhido (codificação, função objetivo, etc.) e analisar\n",
        "o espaço de busca resultante (complexidade, tamanho da vizinhança, etc.)."
      ]
    },
    {
      "cell_type": "markdown",
      "metadata": {
        "id": "W8Dxr18qOt20"
      },
      "source": [
        "\n",
        "\n",
        "*   Codificação: Para a população inicial, cada cromossomo consistirá em uma representação de permutação por meio de um vetor, que será uma sequência de visitação entre as cidades gerada de forma aleatória. Esse processo se repetirá até o surgimento de um individuo bem adaptado, ou a passagem de 100 gerações. A cada geração, os indíviduos serão dispostos a um processo de seleção, cruzamento e mutação, sendo utilizados dois operadores para cada um desses passos. A população iniciará com o mesmo número de cromossomos do que a quantidade de cidades disponíveis no problema.\n",
        "\n",
        "*   Função de fitness: A função de fitness será o cálculo da distância média percorrida entre as cidades, para que haja um maior aproveitamento de cada solução, visto que utilizar o somatório das distâncias poderia desfavorecer soluções que começam bem e pioram no final.\n",
        "\n",
        "*   Seleção: Os indivíduos serão selecionados por meio de torneio, feito utilizando dois grupos de 10% do total da população, selecionados aleatoriamente. De cada grupo é selecionado o melhor de acordo com a função de fitness.\n",
        "\n",
        "*   Cruzamento: O cruzamento será feito utilizando Order Crossover, onde o filho adere uma parte ordenada do Pai 1 e o restante é aderido do Pai 2, na mesma ordem que constar. As cidades adquiridas do Pai 1 são puladas.\n",
        "\n",
        "*   Mutação: Será considerada uma taxa de mutação de 2%.\n",
        "\n",
        "* Tamanho de vizinhança: A vizinhança pode ser definida como todas as soluções que podem ser obtidas trocando duas cidades adjacentes na rota. \n",
        "\n",
        "* Complexidade: T(n) = O(N^2 * M), onde N é o tamanho da população e M é o número de gerações\n",
        "\n"
      ]
    },
    {
      "cell_type": "markdown",
      "source": [
        "## **Implementação**"
      ],
      "metadata": {
        "id": "iwpCe7u2oaGi"
      }
    },
    {
      "cell_type": "markdown",
      "source": [
        "O código apresentado define uma classe chamada Fitness que é utilizada para calcular a aptidão de uma rota em um problema de otimização de rotas. A classe possui dois métodos, \"routeDistance\" e \"routeFitness\", que calculam a distância total da rota e a aptidão da rota, respectivamente. "
      ],
      "metadata": {
        "id": "-NQyXP2NpE6y"
      }
    },
    {
      "cell_type": "code",
      "execution_count": 22,
      "metadata": {
        "id": "JOvpQW3oU1Ow"
      },
      "outputs": [],
      "source": [
        "class Fitness:\n",
        "    def __init__(self, route):\n",
        "        self.route = route\n",
        "        self.distance = 0\n",
        "        self.fitness = 0.0\n",
        "\n",
        "    def routeDistance(self):\n",
        "        if self.distance == 0:\n",
        "            pathDistance = 0\n",
        "            for i in range(len(self.route)):\n",
        "                fromCity = self.route[i]\n",
        "                toCity = self.route[(i + 1) % len(self.route)]\n",
        "                pathDistance += fromCity.distance(toCity)\n",
        "            self.distance = pathDistance\n",
        "        return self.distance\n",
        "\n",
        "    def routeFitness(self):\n",
        "        if self.fitness == 0:\n",
        "            total_distance = self.routeDistance()\n",
        "            mean_distance = total_distance / len(self.route)\n",
        "            self.fitness = 1 / mean_distance\n",
        "        return self.fitness"
      ]
    },
    {
      "cell_type": "markdown",
      "source": [
        "---\n",
        "A classe City possui métodos para calcular a distância entre duas cidades, obter as coordenadas X e Y da cidade, além de um método de representação em formato de string. A biblioteca NumPy é utilizada para calcular a distância entre as cidades."
      ],
      "metadata": {
        "id": "bFDjW8sTpYLI"
      }
    },
    {
      "cell_type": "code",
      "execution_count": 23,
      "metadata": {
        "id": "EuM_jDEnVB2C"
      },
      "outputs": [],
      "source": [
        "import numpy as np\n",
        "\n",
        "class City:\n",
        "    def __init__(self, x, y):\n",
        "        self.x = x\n",
        "        self.y = y\n",
        "\n",
        "    def distance(self, city):\n",
        "        return np.hypot(self.x - city.x, self.y - city.y)\n",
        "\n",
        "    def __repr__(self):\n",
        "        return \"(\" + str(self.x) + \",\" + str(self.y) + \")\"\n",
        "    \n",
        "    def getX(self):\n",
        "        return self.x\n",
        "\n",
        "    def getY(self):\n",
        "        return self.y"
      ]
    },
    {
      "cell_type": "markdown",
      "source": [
        "---\n",
        "A função \"createRoute\" recebe uma lista de cidades e retorna uma rota aleatória. Já a função \"initialPopulation\" recebe uma lista de cidades e cria uma população inicial de rotas aleatórias, com base no tamanho da lista de cidade."
      ],
      "metadata": {
        "id": "_kMye6WBtgD4"
      }
    },
    {
      "cell_type": "code",
      "source": [
        "import numpy as np, random, operator, pandas as pd\n",
        "import matplotlib\n",
        "matplotlib.use('Agg')\n",
        "import matplotlib.pyplot as plt\n",
        "%matplotlib inline\n",
        "from google.colab import files \n",
        "import io\n",
        "\n",
        "import random\n",
        "\n",
        "\n",
        "\n",
        "def createRoute(cityList):\n",
        "    if not isinstance(cityList, list):\n",
        "        raise TypeError(\"cityList deve ser uma lista\")\n",
        "    if len(cityList) < 1:\n",
        "        raise ValueError(\"cityList não pode estar vazio\")\n",
        "\n",
        "    random.shuffle(cityList)\n",
        "\n",
        "    return cityList\n",
        "\n",
        "def initialPopulation(cityList):\n",
        "    popSize = len(cityList)\n",
        "    population = []\n",
        "    for i in range(0, popSize):\n",
        "        population.append(createRoute(cityList))\n",
        "    return population"
      ],
      "metadata": {
        "id": "hdSwZFCas93W"
      },
      "execution_count": 24,
      "outputs": []
    },
    {
      "cell_type": "markdown",
      "source": [
        "---\n",
        "A função \"rankRoutes\" recebe uma população e retorna um dicionário com o índice e a aptidão de cada rota, ordenada em ordem decrescente de aptidão. A função \"selection\" recebe uma lista de rotas ranqueadas e um eliteSize e retorna uma lista de índices dos indivíduos selecionados para reprodução."
      ],
      "metadata": {
        "id": "l76KGg8CtqSn"
      }
    },
    {
      "cell_type": "code",
      "source": [
        "def rankRoutes(population):\n",
        "    fitnessResults = {}\n",
        "    for i in range(0,len(population)):\n",
        "        fitnessResults[i] = Fitness(population[i]).routeFitness()\n",
        "    return sorted(fitnessResults.items(), key = operator.itemgetter(1), reverse = True)\n",
        "\n",
        "def selection(popRanked, eliteSize):\n",
        "    selectionResults = []\n",
        "    df = pd.DataFrame(np.array(popRanked), columns=[\"Index\",\"Fitness\"])\n",
        "    df['cum_sum'] = df.Fitness.cumsum()\n",
        "    df['cum_perc'] = 100*df.cum_sum/df.Fitness.sum()\n",
        "\n",
        "    for i in range(0, eliteSize):\n",
        "        selectionResults.append(popRanked[i][0])\n",
        "    for i in range(0, len(popRanked) - eliteSize):\n",
        "        pick = 100*random.random()\n",
        "        for i in range(0, len(popRanked)):\n",
        "            if pick <= df.iat[i,3]:\n",
        "                selectionResults.append(popRanked[i][0])\n",
        "                break\n",
        "    return selectionResults"
      ],
      "metadata": {
        "id": "9iagCxU-tqnA"
      },
      "execution_count": 25,
      "outputs": []
    },
    {
      "cell_type": "markdown",
      "source": [
        "---\n",
        "A técnica de cruzamento Order Crossover (OX) cria novos indivíduos a partir de uma \"pool de acasalamento\" (mating pool) gerada pela técnica de seleção. O OX envolve a escolha aleatória de dois pontos de corte em um dos pais, e a criação de um filho que herda uma parte de cada pai, mantendo a ordem dos elementos herdados. A função orderCrossoverPopulation utiliza o OX para criar uma nova população a partir da \"pool de acasalamento\"."
      ],
      "metadata": {
        "id": "Kkrpv7lIvmg5"
      }
    },
    {
      "cell_type": "code",
      "source": [
        "def matingPool(population, selectionResults):\n",
        "    return [population[i] for i in selectionResults]\n",
        "\n",
        "def orderCrossover(parent1, parent2):\n",
        "    child = [-1] * len(parent1)\n",
        "\n",
        "    geneA = int(random.random() * len(parent1))\n",
        "    geneB = int(random.random() * len(parent1))\n",
        "\n",
        "    startGene = min(geneA, geneB)\n",
        "    endGene = max(geneA, geneB)\n",
        "\n",
        "    for i in range(startGene, endGene):\n",
        "        child[i] = parent1[i]\n",
        "\n",
        "    idx = endGene\n",
        "    for elem in parent2[endGene:] + parent2[:endGene]:\n",
        "        if elem not in child:\n",
        "            child[idx % len(parent1)] = elem\n",
        "            idx += 1\n",
        "\n",
        "    return child\n",
        "\n",
        "def orderCrossoverPopulation(matingpool, eliteSize):\n",
        "    children = []\n",
        "    length = len(matingpool) - eliteSize\n",
        "    pool = random.sample(matingpool, len(matingpool))\n",
        "\n",
        "    for i in range(0,eliteSize):\n",
        "        children.append(matingpool[i])\n",
        "\n",
        "    for i in range(0, length):\n",
        "        child = orderCrossover(pool[i], pool[len(matingpool)-i-1])\n",
        "        children.append(child)\n",
        "    return children\n"
      ],
      "metadata": {
        "id": "afnLxrfPvm8A"
      },
      "execution_count": 26,
      "outputs": []
    },
    {
      "cell_type": "markdown",
      "source": [
        "---\n",
        "A função mutate recebe um indivíduo (uma rota) e uma taxa de mutação e faz um swap aleatório entre dois genes (cidades) da rota. A função mutatePopulation itera sobre toda a população e aplica a função mutate a cada indivíduo, retornando uma nova população mutada."
      ],
      "metadata": {
        "id": "4IBnolVfwKqY"
      }
    },
    {
      "cell_type": "code",
      "source": [
        "def mutate(individual, mutationRate):\n",
        "    for swapped in range(len(individual)):\n",
        "        if(random.random() < mutationRate):\n",
        "            swapWith = int(random.random() * len(individual))\n",
        "\n",
        "            city1 = individual[swapped]\n",
        "            city2 = individual[swapWith]\n",
        "\n",
        "            individual[swapped] = city2\n",
        "            individual[swapWith] = city1\n",
        "    return individual\n",
        "\n",
        "def mutatePopulation(population, mutationRate):\n",
        "    mutatedPop = []\n",
        "\n",
        "    for ind in range(0, len(population)):\n",
        "        mutatedInd = mutate(population[ind], mutationRate)\n",
        "        mutatedPop.append(mutatedInd)\n",
        "    return mutatedPop"
      ],
      "metadata": {
        "id": "aHOZHsAowLAQ"
      },
      "execution_count": 27,
      "outputs": []
    },
    {
      "cell_type": "markdown",
      "source": [
        "---\n",
        "A função geneticAlgorithm inicia a população, evolui as gerações e retorna a melhor rota encontrada. A função geneticAlgorithmPlot plota um gráfico da evolução da distância da melhor rota encontrada em cada geração. A função showMap plota as cidades do problema em um gráfico. A leitura do arquivo com as coordenadas das cidades é feita no final do código."
      ],
      "metadata": {
        "id": "L0gexOvQxXS3"
      }
    },
    {
      "cell_type": "code",
      "execution_count": 34,
      "metadata": {
        "colab": {
          "base_uri": "https://localhost:8080/",
          "height": 73
        },
        "id": "1VeF3fZTVIhA",
        "outputId": "da441e5e-1e19-45d7-ac7e-e4033a490b90"
      },
      "outputs": [
        {
          "output_type": "display_data",
          "data": {
            "text/plain": [
              "<IPython.core.display.HTML object>"
            ],
            "text/html": [
              "\n",
              "     <input type=\"file\" id=\"files-fa39f003-1cbb-473b-926b-69f4feef5777\" name=\"files[]\" multiple disabled\n",
              "        style=\"border:none\" />\n",
              "     <output id=\"result-fa39f003-1cbb-473b-926b-69f4feef5777\">\n",
              "      Upload widget is only available when the cell has been executed in the\n",
              "      current browser session. Please rerun this cell to enable.\n",
              "      </output>\n",
              "      <script>// Copyright 2017 Google LLC\n",
              "//\n",
              "// Licensed under the Apache License, Version 2.0 (the \"License\");\n",
              "// you may not use this file except in compliance with the License.\n",
              "// You may obtain a copy of the License at\n",
              "//\n",
              "//      http://www.apache.org/licenses/LICENSE-2.0\n",
              "//\n",
              "// Unless required by applicable law or agreed to in writing, software\n",
              "// distributed under the License is distributed on an \"AS IS\" BASIS,\n",
              "// WITHOUT WARRANTIES OR CONDITIONS OF ANY KIND, either express or implied.\n",
              "// See the License for the specific language governing permissions and\n",
              "// limitations under the License.\n",
              "\n",
              "/**\n",
              " * @fileoverview Helpers for google.colab Python module.\n",
              " */\n",
              "(function(scope) {\n",
              "function span(text, styleAttributes = {}) {\n",
              "  const element = document.createElement('span');\n",
              "  element.textContent = text;\n",
              "  for (const key of Object.keys(styleAttributes)) {\n",
              "    element.style[key] = styleAttributes[key];\n",
              "  }\n",
              "  return element;\n",
              "}\n",
              "\n",
              "// Max number of bytes which will be uploaded at a time.\n",
              "const MAX_PAYLOAD_SIZE = 100 * 1024;\n",
              "\n",
              "function _uploadFiles(inputId, outputId) {\n",
              "  const steps = uploadFilesStep(inputId, outputId);\n",
              "  const outputElement = document.getElementById(outputId);\n",
              "  // Cache steps on the outputElement to make it available for the next call\n",
              "  // to uploadFilesContinue from Python.\n",
              "  outputElement.steps = steps;\n",
              "\n",
              "  return _uploadFilesContinue(outputId);\n",
              "}\n",
              "\n",
              "// This is roughly an async generator (not supported in the browser yet),\n",
              "// where there are multiple asynchronous steps and the Python side is going\n",
              "// to poll for completion of each step.\n",
              "// This uses a Promise to block the python side on completion of each step,\n",
              "// then passes the result of the previous step as the input to the next step.\n",
              "function _uploadFilesContinue(outputId) {\n",
              "  const outputElement = document.getElementById(outputId);\n",
              "  const steps = outputElement.steps;\n",
              "\n",
              "  const next = steps.next(outputElement.lastPromiseValue);\n",
              "  return Promise.resolve(next.value.promise).then((value) => {\n",
              "    // Cache the last promise value to make it available to the next\n",
              "    // step of the generator.\n",
              "    outputElement.lastPromiseValue = value;\n",
              "    return next.value.response;\n",
              "  });\n",
              "}\n",
              "\n",
              "/**\n",
              " * Generator function which is called between each async step of the upload\n",
              " * process.\n",
              " * @param {string} inputId Element ID of the input file picker element.\n",
              " * @param {string} outputId Element ID of the output display.\n",
              " * @return {!Iterable<!Object>} Iterable of next steps.\n",
              " */\n",
              "function* uploadFilesStep(inputId, outputId) {\n",
              "  const inputElement = document.getElementById(inputId);\n",
              "  inputElement.disabled = false;\n",
              "\n",
              "  const outputElement = document.getElementById(outputId);\n",
              "  outputElement.innerHTML = '';\n",
              "\n",
              "  const pickedPromise = new Promise((resolve) => {\n",
              "    inputElement.addEventListener('change', (e) => {\n",
              "      resolve(e.target.files);\n",
              "    });\n",
              "  });\n",
              "\n",
              "  const cancel = document.createElement('button');\n",
              "  inputElement.parentElement.appendChild(cancel);\n",
              "  cancel.textContent = 'Cancel upload';\n",
              "  const cancelPromise = new Promise((resolve) => {\n",
              "    cancel.onclick = () => {\n",
              "      resolve(null);\n",
              "    };\n",
              "  });\n",
              "\n",
              "  // Wait for the user to pick the files.\n",
              "  const files = yield {\n",
              "    promise: Promise.race([pickedPromise, cancelPromise]),\n",
              "    response: {\n",
              "      action: 'starting',\n",
              "    }\n",
              "  };\n",
              "\n",
              "  cancel.remove();\n",
              "\n",
              "  // Disable the input element since further picks are not allowed.\n",
              "  inputElement.disabled = true;\n",
              "\n",
              "  if (!files) {\n",
              "    return {\n",
              "      response: {\n",
              "        action: 'complete',\n",
              "      }\n",
              "    };\n",
              "  }\n",
              "\n",
              "  for (const file of files) {\n",
              "    const li = document.createElement('li');\n",
              "    li.append(span(file.name, {fontWeight: 'bold'}));\n",
              "    li.append(span(\n",
              "        `(${file.type || 'n/a'}) - ${file.size} bytes, ` +\n",
              "        `last modified: ${\n",
              "            file.lastModifiedDate ? file.lastModifiedDate.toLocaleDateString() :\n",
              "                                    'n/a'} - `));\n",
              "    const percent = span('0% done');\n",
              "    li.appendChild(percent);\n",
              "\n",
              "    outputElement.appendChild(li);\n",
              "\n",
              "    const fileDataPromise = new Promise((resolve) => {\n",
              "      const reader = new FileReader();\n",
              "      reader.onload = (e) => {\n",
              "        resolve(e.target.result);\n",
              "      };\n",
              "      reader.readAsArrayBuffer(file);\n",
              "    });\n",
              "    // Wait for the data to be ready.\n",
              "    let fileData = yield {\n",
              "      promise: fileDataPromise,\n",
              "      response: {\n",
              "        action: 'continue',\n",
              "      }\n",
              "    };\n",
              "\n",
              "    // Use a chunked sending to avoid message size limits. See b/62115660.\n",
              "    let position = 0;\n",
              "    do {\n",
              "      const length = Math.min(fileData.byteLength - position, MAX_PAYLOAD_SIZE);\n",
              "      const chunk = new Uint8Array(fileData, position, length);\n",
              "      position += length;\n",
              "\n",
              "      const base64 = btoa(String.fromCharCode.apply(null, chunk));\n",
              "      yield {\n",
              "        response: {\n",
              "          action: 'append',\n",
              "          file: file.name,\n",
              "          data: base64,\n",
              "        },\n",
              "      };\n",
              "\n",
              "      let percentDone = fileData.byteLength === 0 ?\n",
              "          100 :\n",
              "          Math.round((position / fileData.byteLength) * 100);\n",
              "      percent.textContent = `${percentDone}% done`;\n",
              "\n",
              "    } while (position < fileData.byteLength);\n",
              "  }\n",
              "\n",
              "  // All done.\n",
              "  yield {\n",
              "    response: {\n",
              "      action: 'complete',\n",
              "    }\n",
              "  };\n",
              "}\n",
              "\n",
              "scope.google = scope.google || {};\n",
              "scope.google.colab = scope.google.colab || {};\n",
              "scope.google.colab._files = {\n",
              "  _uploadFiles,\n",
              "  _uploadFilesContinue,\n",
              "};\n",
              "})(self);\n",
              "</script> "
            ]
          },
          "metadata": {}
        },
        {
          "output_type": "stream",
          "name": "stdout",
          "text": [
            "Saving st70.tsp.txt to st70.tsp.txt\n"
          ]
        }
      ],
      "source": [
        "def nextGeneration(currentGen, eliteSize, mutationRate):\n",
        "    popRanked = rankRoutes(currentGen)\n",
        "    selectionResults = selection(popRanked, eliteSize)\n",
        "    matingpool = matingPool(currentGen, selectionResults)\n",
        "    children = orderCrossoverPopulation(matingpool, eliteSize)\n",
        "    nextGeneration = mutatePopulation(children, mutationRate)\n",
        "\n",
        "    return nextGeneration\n",
        "\n",
        "def geneticAlgorithm(population, popSize, eliteSize, mutationRate, generations):\n",
        "    pop = initialPopulation(popSize, population)\n",
        "    print(\"Initial distance: \" + str(1 / rankRoutes(pop)[0][1]))\n",
        "\n",
        "    for i in range(0, generations):\n",
        "        pop = nextGeneration(pop, eliteSize, mutationRate)\n",
        "\n",
        "    print(\"Final distance: \" + str(1 / rankRoutes(pop)[0][1]))\n",
        "    bestRouteIndex = rankRoutes(pop)[0][0]\n",
        "    bestRoute = pop[bestRouteIndex]\n",
        "    return bestRoute\n",
        "\n",
        "def geneticAlgorithmPlot(population, eliteSize, mutationRate, generations):\n",
        "    pop = initialPopulation(population)\n",
        "    progress = []\n",
        "    progress.append(1 / rankRoutes(pop)[0][1])\n",
        "\n",
        "    for i in range(0, generations):\n",
        "        pop = nextGeneration(pop, eliteSize, mutationRate)\n",
        "        progress.append(1 / rankRoutes(pop)[0][1])\n",
        "\n",
        "        plt.plot(progress)\n",
        "        plt.ylabel('Distance')\n",
        "        plt.xlabel('Generation')\n",
        "    plt.show()\n",
        "\n",
        "def showMap(population):\n",
        "    x = []\n",
        "    y = []\n",
        "    for city in population:\n",
        "        x.append(city.getX())\n",
        "        y.append(city.getY())\n",
        "        plt.plot(x, y, 'ro')\n",
        "        plt.ylabel('Distance X')\n",
        "        plt.xlabel('Distance Y')\n",
        "    plt.show()\n",
        "\n",
        "cityList = []\n",
        "\n",
        "uploaded = files.upload()\n",
        "filename = next(iter(uploaded.keys()))\n",
        "\n",
        "with open(filename, 'r') as f:\n",
        "        for line in f:\n",
        "            line = line.split()\n",
        "            cityList.append(City(x=int(line[1]), y=int(line[2])))\n",
        "\n"
      ]
    },
    {
      "cell_type": "markdown",
      "source": [
        "---\n",
        "Os parametros abaixo são utilizando a nossa solução para o problema. Após fazer a execução com eles podemos examinar que a taxa de mutação está com a porcentagem muito alta, dessa forma a qualidade dos resultados ficou abaixo do esperado.\n"
      ],
      "metadata": {
        "id": "kNhsqIDZqKwA"
      }
    },
    {
      "cell_type": "code",
      "source": [
        "geneticAlgorithmPlot(population=cityList, eliteSize=10, mutationRate=0.02, generations=500)"
      ],
      "metadata": {
        "colab": {
          "base_uri": "https://localhost:8080/",
          "height": 449
        },
        "id": "CC81yxMTnEkA",
        "outputId": "426a5ad7-7e03-4499-b1e6-0bf26a2e89a4"
      },
      "execution_count": 35,
      "outputs": [
        {
          "output_type": "display_data",
          "data": {
            "text/plain": [
              "<Figure size 640x480 with 1 Axes>"
            ],
            "image/png": "[encoded data removed]"
          },
          "metadata": {}
        }
      ]
    },
    {
      "cell_type": "markdown",
      "source": [
        "---\n",
        "Após fazer uma alteração na mutação alterando 2% para 0,2%, obtivemos um resultado bem melhor. Dessa forma podemos considerar que a taxa de mutação deve possuir um valor que evite a não progressão dos resultados, mas mesmo assim não perdendo a qualidade do mesmo."
      ],
      "metadata": {
        "id": "F9P4uo7drQ7Y"
      }
    },
    {
      "cell_type": "code",
      "source": [
        "geneticAlgorithmPlot(population=cityList, eliteSize=10, mutationRate=0.002, generations=500)"
      ],
      "metadata": {
        "colab": {
          "base_uri": "https://localhost:8080/",
          "height": 449
        },
        "id": "gCMStd_7nOrQ",
        "outputId": "c4be93a9-4d24-443d-bcc9-d0abbf5d8352"
      },
      "execution_count": 36,
      "outputs": [
        {
          "output_type": "display_data",
          "data": {
            "text/plain": [
              "<Figure size 640x480 with 1 Axes>"
            ],
            "image/png": "[encoded data removed]"
          },
          "metadata": {}
        }
      ]
    }
  ],
  "metadata": {
    "colab": {
      "toc_visible": true,
      "provenance": []
    },
    "kernelspec": {
      "display_name": "Python 3",
      "name": "python3"
    },
    "language_info": {
      "name": "python"
    }
  },
  "nbformat": 4,
  "nbformat_minor": 0
}